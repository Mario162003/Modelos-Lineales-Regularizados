{
    "cells": [
        {
            "cell_type": "markdown",
            "metadata": {},
            "source": [
                "# Explore here"
            ]
        },
        {
            "cell_type": "code",
            "execution_count": 1,
            "metadata": {},
            "outputs": [],
            "source": [
                "import numpy as np\n",
                "import pandas as pd\n",
                "import seaborn as sns\n",
                "import matplotlib.pyplot as plt\n",
                "from sklearn.model_selection import train_test_split\n",
                "from sklearn.preprocessing import StandardScaler\n",
                "from sklearn.linear_model import LinearRegression, LassoCV, RidgeCV\n",
                "from sklearn.metrics import r2_score, median_absolute_error, mean_absolute_percentage_error"
            ]
        },
        {
            "cell_type": "code",
            "execution_count": 2,
            "metadata": {},
            "outputs": [],
            "source": [
                "df = pd.read_csv('https://raw.githubusercontent.com/4GeeksAcademy/regularized-linear-regression-project-tutorial/main/demographic_health_data.csv', sep = ',')"
            ]
        },
        {
            "cell_type": "code",
            "execution_count": 3,
            "metadata": {},
            "outputs": [
                {
                    "data": {
                        "text/html": [
                            "<div>\n",
                            "<style scoped>\n",
                            "    .dataframe tbody tr th:only-of-type {\n",
                            "        vertical-align: middle;\n",
                            "    }\n",
                            "\n",
                            "    .dataframe tbody tr th {\n",
                            "        vertical-align: top;\n",
                            "    }\n",
                            "\n",
                            "    .dataframe thead th {\n",
                            "        text-align: right;\n",
                            "    }\n",
                            "</style>\n",
                            "<table border=\"1\" class=\"dataframe\">\n",
                            "  <thead>\n",
                            "    <tr style=\"text-align: right;\">\n",
                            "      <th></th>\n",
                            "      <th>fips</th>\n",
                            "      <th>TOT_POP</th>\n",
                            "      <th>0-9</th>\n",
                            "      <th>0-9 y/o % of total pop</th>\n",
                            "      <th>19-Oct</th>\n",
                            "      <th>10-19 y/o % of total pop</th>\n",
                            "      <th>20-29</th>\n",
                            "      <th>20-29 y/o % of total pop</th>\n",
                            "      <th>30-39</th>\n",
                            "      <th>30-39 y/o % of total pop</th>\n",
                            "      <th>...</th>\n",
                            "      <th>COPD_number</th>\n",
                            "      <th>diabetes_prevalence</th>\n",
                            "      <th>diabetes_Lower 95% CI</th>\n",
                            "      <th>diabetes_Upper 95% CI</th>\n",
                            "      <th>diabetes_number</th>\n",
                            "      <th>CKD_prevalence</th>\n",
                            "      <th>CKD_Lower 95% CI</th>\n",
                            "      <th>CKD_Upper 95% CI</th>\n",
                            "      <th>CKD_number</th>\n",
                            "      <th>Urban_rural_code</th>\n",
                            "    </tr>\n",
                            "  </thead>\n",
                            "  <tbody>\n",
                            "    <tr>\n",
                            "      <th>0</th>\n",
                            "      <td>1001</td>\n",
                            "      <td>55601</td>\n",
                            "      <td>6787</td>\n",
                            "      <td>12.206615</td>\n",
                            "      <td>7637</td>\n",
                            "      <td>13.735364</td>\n",
                            "      <td>6878</td>\n",
                            "      <td>12.370281</td>\n",
                            "      <td>7089</td>\n",
                            "      <td>12.749771</td>\n",
                            "      <td>...</td>\n",
                            "      <td>3644</td>\n",
                            "      <td>12.9</td>\n",
                            "      <td>11.9</td>\n",
                            "      <td>13.8</td>\n",
                            "      <td>5462</td>\n",
                            "      <td>3.1</td>\n",
                            "      <td>2.9</td>\n",
                            "      <td>3.3</td>\n",
                            "      <td>1326</td>\n",
                            "      <td>3</td>\n",
                            "    </tr>\n",
                            "    <tr>\n",
                            "      <th>1</th>\n",
                            "      <td>1003</td>\n",
                            "      <td>218022</td>\n",
                            "      <td>24757</td>\n",
                            "      <td>11.355276</td>\n",
                            "      <td>26913</td>\n",
                            "      <td>12.344167</td>\n",
                            "      <td>23579</td>\n",
                            "      <td>10.814964</td>\n",
                            "      <td>25213</td>\n",
                            "      <td>11.564429</td>\n",
                            "      <td>...</td>\n",
                            "      <td>14692</td>\n",
                            "      <td>12.0</td>\n",
                            "      <td>11.0</td>\n",
                            "      <td>13.1</td>\n",
                            "      <td>20520</td>\n",
                            "      <td>3.2</td>\n",
                            "      <td>3.0</td>\n",
                            "      <td>3.5</td>\n",
                            "      <td>5479</td>\n",
                            "      <td>4</td>\n",
                            "    </tr>\n",
                            "    <tr>\n",
                            "      <th>2</th>\n",
                            "      <td>1005</td>\n",
                            "      <td>24881</td>\n",
                            "      <td>2732</td>\n",
                            "      <td>10.980266</td>\n",
                            "      <td>2960</td>\n",
                            "      <td>11.896628</td>\n",
                            "      <td>3268</td>\n",
                            "      <td>13.134520</td>\n",
                            "      <td>3201</td>\n",
                            "      <td>12.865239</td>\n",
                            "      <td>...</td>\n",
                            "      <td>2373</td>\n",
                            "      <td>19.7</td>\n",
                            "      <td>18.6</td>\n",
                            "      <td>20.6</td>\n",
                            "      <td>3870</td>\n",
                            "      <td>4.5</td>\n",
                            "      <td>4.2</td>\n",
                            "      <td>4.8</td>\n",
                            "      <td>887</td>\n",
                            "      <td>6</td>\n",
                            "    </tr>\n",
                            "    <tr>\n",
                            "      <th>3</th>\n",
                            "      <td>1007</td>\n",
                            "      <td>22400</td>\n",
                            "      <td>2456</td>\n",
                            "      <td>10.964286</td>\n",
                            "      <td>2596</td>\n",
                            "      <td>11.589286</td>\n",
                            "      <td>3029</td>\n",
                            "      <td>13.522321</td>\n",
                            "      <td>3113</td>\n",
                            "      <td>13.897321</td>\n",
                            "      <td>...</td>\n",
                            "      <td>1789</td>\n",
                            "      <td>14.1</td>\n",
                            "      <td>13.2</td>\n",
                            "      <td>14.9</td>\n",
                            "      <td>2511</td>\n",
                            "      <td>3.3</td>\n",
                            "      <td>3.1</td>\n",
                            "      <td>3.6</td>\n",
                            "      <td>595</td>\n",
                            "      <td>2</td>\n",
                            "    </tr>\n",
                            "    <tr>\n",
                            "      <th>4</th>\n",
                            "      <td>1009</td>\n",
                            "      <td>57840</td>\n",
                            "      <td>7095</td>\n",
                            "      <td>12.266598</td>\n",
                            "      <td>7570</td>\n",
                            "      <td>13.087828</td>\n",
                            "      <td>6742</td>\n",
                            "      <td>11.656293</td>\n",
                            "      <td>6884</td>\n",
                            "      <td>11.901798</td>\n",
                            "      <td>...</td>\n",
                            "      <td>4661</td>\n",
                            "      <td>13.5</td>\n",
                            "      <td>12.6</td>\n",
                            "      <td>14.5</td>\n",
                            "      <td>6017</td>\n",
                            "      <td>3.4</td>\n",
                            "      <td>3.2</td>\n",
                            "      <td>3.7</td>\n",
                            "      <td>1507</td>\n",
                            "      <td>2</td>\n",
                            "    </tr>\n",
                            "  </tbody>\n",
                            "</table>\n",
                            "<p>5 rows × 108 columns</p>\n",
                            "</div>"
                        ],
                        "text/plain": [
                            "   fips  TOT_POP    0-9  0-9 y/o % of total pop  19-Oct  \\\n",
                            "0  1001    55601   6787               12.206615    7637   \n",
                            "1  1003   218022  24757               11.355276   26913   \n",
                            "2  1005    24881   2732               10.980266    2960   \n",
                            "3  1007    22400   2456               10.964286    2596   \n",
                            "4  1009    57840   7095               12.266598    7570   \n",
                            "\n",
                            "   10-19 y/o % of total pop  20-29  20-29 y/o % of total pop  30-39  \\\n",
                            "0                 13.735364   6878                 12.370281   7089   \n",
                            "1                 12.344167  23579                 10.814964  25213   \n",
                            "2                 11.896628   3268                 13.134520   3201   \n",
                            "3                 11.589286   3029                 13.522321   3113   \n",
                            "4                 13.087828   6742                 11.656293   6884   \n",
                            "\n",
                            "   30-39 y/o % of total pop  ...  COPD_number  diabetes_prevalence  \\\n",
                            "0                 12.749771  ...         3644                 12.9   \n",
                            "1                 11.564429  ...        14692                 12.0   \n",
                            "2                 12.865239  ...         2373                 19.7   \n",
                            "3                 13.897321  ...         1789                 14.1   \n",
                            "4                 11.901798  ...         4661                 13.5   \n",
                            "\n",
                            "   diabetes_Lower 95% CI  diabetes_Upper 95% CI  diabetes_number  \\\n",
                            "0                   11.9                   13.8             5462   \n",
                            "1                   11.0                   13.1            20520   \n",
                            "2                   18.6                   20.6             3870   \n",
                            "3                   13.2                   14.9             2511   \n",
                            "4                   12.6                   14.5             6017   \n",
                            "\n",
                            "   CKD_prevalence  CKD_Lower 95% CI  CKD_Upper 95% CI  CKD_number  \\\n",
                            "0             3.1               2.9               3.3        1326   \n",
                            "1             3.2               3.0               3.5        5479   \n",
                            "2             4.5               4.2               4.8         887   \n",
                            "3             3.3               3.1               3.6         595   \n",
                            "4             3.4               3.2               3.7        1507   \n",
                            "\n",
                            "   Urban_rural_code  \n",
                            "0                 3  \n",
                            "1                 4  \n",
                            "2                 6  \n",
                            "3                 2  \n",
                            "4                 2  \n",
                            "\n",
                            "[5 rows x 108 columns]"
                        ]
                    },
                    "execution_count": 3,
                    "metadata": {},
                    "output_type": "execute_result"
                }
            ],
            "source": [
                "df.head()"
            ]
        },
        {
            "cell_type": "code",
            "execution_count": 8,
            "metadata": {},
            "outputs": [
                {
                    "name": "stdout",
                    "output_type": "stream",
                    "text": [
                        "fips//   TOT_POP//   0-9//   0-9 y/o % of total pop//   19-Oct//   10-19 y/o % of total pop//   20-29//   20-29 y/o % of total pop//   30-39//   30-39 y/o % of total pop//   40-49//   40-49 y/o % of total pop//   50-59//   50-59 y/o % of total pop//   60-69//   60-69 y/o % of total pop//   70-79//   70-79 y/o % of total pop//   80+//   80+ y/o % of total pop//   White-alone pop//   % White-alone//   Black-alone pop//   % Black-alone//   Native American/American Indian-alone pop//   % NA/AI-alone//   Asian-alone pop//   % Asian-alone//   Hawaiian/Pacific Islander-alone pop//   % Hawaiian/PI-alone//   Two or more races pop//   % Two or more races//   POP_ESTIMATE_2018//   N_POP_CHG_2018//   GQ_ESTIMATES_2018//   R_birth_2018//   R_death_2018//   R_NATURAL_INC_2018//   R_INTERNATIONAL_MIG_2018//   R_DOMESTIC_MIG_2018//   R_NET_MIG_2018//   Less than a high school diploma 2014-18//   High school diploma only 2014-18//   Some college or associate's degree 2014-18//   Bachelor's degree or higher 2014-18//   Percent of adults with less than a high school diploma 2014-18//   Percent of adults with a high school diploma only 2014-18//   Percent of adults completing some college or associate's degree 2014-18//   Percent of adults with a bachelor's degree or higher 2014-18//   POVALL_2018//   PCTPOVALL_2018//   PCTPOV017_2018//   PCTPOV517_2018//   MEDHHINC_2018//   CI90LBINC_2018//   CI90UBINC_2018//   Civilian_labor_force_2018//   Employed_2018//   Unemployed_2018//   Unemployment_rate_2018//   Median_Household_Income_2018//   Med_HH_Income_Percent_of_State_Total_2018//   Active Physicians per 100000 Population 2018 (AAMC)//   Total Active Patient Care Physicians per 100000 Population 2018 (AAMC)//   Active Primary Care Physicians per 100000 Population 2018 (AAMC)//   Active Patient Care Primary Care Physicians per 100000 Population 2018 (AAMC)//   Active General Surgeons per 100000 Population 2018 (AAMC)//   Active Patient Care General Surgeons per 100000 Population 2018 (AAMC)//   Total nurse practitioners (2019)//   Total physician assistants (2019)//   Total Hospitals (2019)//   Internal Medicine Primary Care (2019)//   Family Medicine/General Practice Primary Care (2019)//   Total Specialist Physicians (2019)//   ICU Beds_x//   Total Population//   Population Aged 60+//   Percent of Population Aged 60+//   COUNTY_NAME//   STATE_NAME//   STATE_FIPS//   CNTY_FIPS//   county_pop2018_18 and older//   anycondition_prevalence//   anycondition_Lower 95% CI//   anycondition_Upper 95% CI//   anycondition_number//   Obesity_prevalence//   Obesity_Lower 95% CI//   Obesity_Upper 95% CI//   Obesity_number//   Heart disease_prevalence//   Heart disease_Lower 95% CI//   Heart disease_Upper 95% CI//   Heart disease_number//   COPD_prevalence//   COPD_Lower 95% CI//   COPD_Upper 95% CI//   COPD_number//   diabetes_prevalence//   diabetes_Lower 95% CI//   diabetes_Upper 95% CI//   diabetes_number//   CKD_prevalence//   CKD_Lower 95% CI//   CKD_Upper 95% CI//   CKD_number//   Urban_rural_code\n"
                    ]
                }
            ],
            "source": [
                "variables = df.columns\n",
                "print(\"//   \".join(variables))"
            ]
        },
        {
            "cell_type": "code",
            "execution_count": 4,
            "metadata": {},
            "outputs": [
                {
                    "data": {
                        "text/plain": [
                            "Type   \n",
                            "float64    61\n",
                            "int64      45\n",
                            "object      2\n",
                            "Name: count, dtype: int64"
                        ]
                    },
                    "execution_count": 4,
                    "metadata": {},
                    "output_type": "execute_result"
                }
            ],
            "source": [
                "# Miro de qué tipode variables está compuesto el dataset\n",
                "types= df.dtypes\n",
                "df_types = pd.DataFrame(types, index= df.columns, columns= ['Type'])\n",
                "df_types.value_counts()"
            ]
        },
        {
            "cell_type": "code",
            "execution_count": 5,
            "metadata": {},
            "outputs": [
                {
                    "data": {
                        "text/plain": [
                            "(array([78, 79]), array([0, 0]))"
                        ]
                    },
                    "execution_count": 5,
                    "metadata": {},
                    "output_type": "execute_result"
                }
            ],
            "source": [
                "# Busco dónde se encuentran posicionados las variables tipo \"object\"\n",
                "np.where(df_types == 'object')"
            ]
        },
        {
            "cell_type": "code",
            "execution_count": 6,
            "metadata": {},
            "outputs": [
                {
                    "data": {
                        "text/html": [
                            "<div>\n",
                            "<style scoped>\n",
                            "    .dataframe tbody tr th:only-of-type {\n",
                            "        vertical-align: middle;\n",
                            "    }\n",
                            "\n",
                            "    .dataframe tbody tr th {\n",
                            "        vertical-align: top;\n",
                            "    }\n",
                            "\n",
                            "    .dataframe thead th {\n",
                            "        text-align: right;\n",
                            "    }\n",
                            "</style>\n",
                            "<table border=\"1\" class=\"dataframe\">\n",
                            "  <thead>\n",
                            "    <tr style=\"text-align: right;\">\n",
                            "      <th></th>\n",
                            "      <th>Type</th>\n",
                            "    </tr>\n",
                            "  </thead>\n",
                            "  <tbody>\n",
                            "    <tr>\n",
                            "      <th>COUNTY_NAME</th>\n",
                            "      <td>object</td>\n",
                            "    </tr>\n",
                            "    <tr>\n",
                            "      <th>STATE_NAME</th>\n",
                            "      <td>object</td>\n",
                            "    </tr>\n",
                            "  </tbody>\n",
                            "</table>\n",
                            "</div>"
                        ],
                        "text/plain": [
                            "               Type\n",
                            "COUNTY_NAME  object\n",
                            "STATE_NAME   object"
                        ]
                    },
                    "execution_count": 6,
                    "metadata": {},
                    "output_type": "execute_result"
                }
            ],
            "source": [
                "#Saco el nombre d estas variables\n",
                "df_types.iloc[[78, 79]]"
            ]
        },
        {
            "cell_type": "code",
            "execution_count": 7,
            "metadata": {},
            "outputs": [
                {
                    "data": {
                        "text/plain": [
                            "COUNTY_NAME    1841\n",
                            "STATE_NAME       51\n",
                            "dtype: int64"
                        ]
                    },
                    "execution_count": 7,
                    "metadata": {},
                    "output_type": "execute_result"
                }
            ],
            "source": [
                "# Utilizo la función nunique para comprovar cuantos valores puede tomar estas dos variables para determinar que tipo de codificación debería hacer\n",
                "df[['COUNTY_NAME', 'STATE_NAME']].nunique()"
            ]
        },
        {
            "cell_type": "markdown",
            "metadata": {},
            "source": [
                "Viendo el resultado obteido de los valores que pueden tomar mis dos variables tipo \"object\", creo que la mejor opción de codificarlas es hacer un TargetEncoding. Para ello antes voy a tener que imprimir todas las variables y buscar cuál de ellas relacionada con la salud será mi variable objetivo."
            ]
        },
        {
            "cell_type": "code",
            "execution_count": 9,
            "metadata": {},
            "outputs": [
                {
                    "data": {
                        "text/plain": [
                            "(3140, 108)"
                        ]
                    },
                    "execution_count": 9,
                    "metadata": {},
                    "output_type": "execute_result"
                }
            ],
            "source": [
                "df.shape"
            ]
        },
        {
            "cell_type": "code",
            "execution_count": null,
            "metadata": {},
            "outputs": [],
            "source": [
                "#Ordeno las variables de mayor a menor cantidad de valores diferentes que pueden tomar.\n",
                "df_var = df.nunique().sort_values(ascending=False)\n",
                "pd.set_option('display.max_rows', None)\n",
                "df_var"
            ]
        },
        {
            "cell_type": "code",
            "execution_count": 11,
            "metadata": {},
            "outputs": [],
            "source": [
                "#Elimino la variable \"fips\" porque se trata de un ID\n",
                "df.drop('fips', axis= 1, inplace=True)"
            ]
        },
        {
            "cell_type": "code",
            "execution_count": 12,
            "metadata": {},
            "outputs": [
                {
                    "data": {
                        "text/plain": [
                            "np.int64(0)"
                        ]
                    },
                    "execution_count": 12,
                    "metadata": {},
                    "output_type": "execute_result"
                }
            ],
            "source": [
                "df.duplicated().sum()"
            ]
        },
        {
            "cell_type": "code",
            "execution_count": 17,
            "metadata": {},
            "outputs": [
                {
                    "name": "stdout",
                    "output_type": "stream",
                    "text": [
                        "0\n"
                    ]
                }
            ],
            "source": [
                "print(sum(df.isna().sum()))"
            ]
        },
        {
            "cell_type": "code",
            "execution_count": 18,
            "metadata": {},
            "outputs": [],
            "source": [
                "#Aquí aplico el Target encoder a mis dos variables tipo object, respecto la variable \"Obesity_prevalence\". \n",
                "import category_encoders as ce \n",
                "encoder = ce.TargetEncoder(cols= ['COUNTY_NAME','STATE_NAME'])\n",
                "\n",
                "df[['COUNTY_ENC', 'STATE_ENC']] = encoder.fit_transform(df[['COUNTY_NAME', 'STATE_NAME']], df['Obesity_prevalence'])"
            ]
        },
        {
            "cell_type": "markdown",
            "metadata": {},
            "source": [
                "Porque la variable Obesity_prevalence (Prevalencia de obesidad)? \n",
                "    · Pienso que la obesidad es un problema de salud dónde actuán varios factores, no solo de tema bioloógico sino también tema demográfico, como por ejemplo por los recursos por la salud, el nivel económico, etc.\n",
                "    · En este caso, se trata de un dataset ubicado en Estados Unidos, en donde la tasa de obesidad en adultos de los Estados Unidos superó la marca del 40 por ciento por primera vez, exactamente en 42,4 por ciento, según el reporte State of Obesity: Better Policies for a Healthier America, publicado por Trust for America’s Health (TFAH). Polo tanto, considero necesario hacer un análisis de los factores que podrían estar afectando a la prvalencia de obesidad. \n",
                "    \n",
                "    (https://www.bing.com/ck/a?!&&p=1b9b37a8483bf5a8JmltdHM9MTcyNDg4OTYwMCZpZ3VpZD0wNGJhNGVhYi1lYzdmLTY0YjUtMGY0Zi01ZDczZWRkNzY1NjUmaW5zaWQ9NTUwMA&ptn=3&ver=2&hsh=3&fclid=04ba4eab-ec7f-64b5-0f4f-5d73edd76565&psq=%25+obesdidad+EEUU&u=a1aHR0cHM6Ly93d3cudGZhaC5vcmcvYXJ0aWNsZS8yMzc3Ni8jOn46dGV4dD0lMjhXYXNoaW5ndG9uJTJDJTIwREMlMjAlRTIlODAlOTMlMjBTZXB0ZW1iZXIlMjAxNyUyQyUyMDIwMjAlMjklMjAlRTIlODAlOTMlMjBMYSxwdWJsaWNhZG8lMjBob3klMjBwb3IlMjBUcnVzdCUyMGZvciUyMEFtZXJpY2ElRTIlODAlOTlzJTIwSGVhbHRoJTIwJTI4VEZBSCUyOS4&ntb=1)"
            ]
        },
        {
            "cell_type": "code",
            "execution_count": 19,
            "metadata": {},
            "outputs": [],
            "source": [
                "df.drop(columns=['COUNTY_NAME', 'STATE_NAME'], inplace = True)"
            ]
        },
        {
            "cell_type": "markdown",
            "metadata": {},
            "source": [
                "Para que no haya problemas con la transformación logarítmica de las variables que tengan un skew alto, decido filtrar el dataset para obtener solo los valores más altos que 0."
            ]
        },
        {
            "cell_type": "code",
            "execution_count": 20,
            "metadata": {},
            "outputs": [],
            "source": [
                "# Filtro la lista\n",
                "df= df[(df > 0).all(axis=1)]"
            ]
        },
        {
            "cell_type": "code",
            "execution_count": 21,
            "metadata": {},
            "outputs": [
                {
                    "data": {
                        "text/plain": [
                            "[np.int64(0),\n",
                            " np.int64(1),\n",
                            " np.int64(3),\n",
                            " np.int64(5),\n",
                            " np.int64(6),\n",
                            " np.int64(7),\n",
                            " np.int64(9),\n",
                            " np.int64(11),\n",
                            " np.int64(13),\n",
                            " np.int64(15),\n",
                            " np.int64(17),\n",
                            " np.int64(19),\n",
                            " np.int64(21),\n",
                            " np.int64(22),\n",
                            " np.int64(23),\n",
                            " np.int64(24),\n",
                            " np.int64(25),\n",
                            " np.int64(26),\n",
                            " np.int64(27),\n",
                            " np.int64(28),\n",
                            " np.int64(29),\n",
                            " np.int64(30),\n",
                            " np.int64(31),\n",
                            " np.int64(32),\n",
                            " np.int64(33),\n",
                            " np.int64(36),\n",
                            " np.int64(37),\n",
                            " np.int64(38),\n",
                            " np.int64(39),\n",
                            " np.int64(40),\n",
                            " np.int64(41),\n",
                            " np.int64(42),\n",
                            " np.int64(43),\n",
                            " np.int64(48),\n",
                            " np.int64(52),\n",
                            " np.int64(53),\n",
                            " np.int64(54),\n",
                            " np.int64(55),\n",
                            " np.int64(56),\n",
                            " np.int64(57),\n",
                            " np.int64(58),\n",
                            " np.int64(59),\n",
                            " np.int64(60),\n",
                            " np.int64(61),\n",
                            " np.int64(65),\n",
                            " np.int64(66),\n",
                            " np.int64(67),\n",
                            " np.int64(68),\n",
                            " np.int64(69),\n",
                            " np.int64(70),\n",
                            " np.int64(71),\n",
                            " np.int64(72),\n",
                            " np.int64(73),\n",
                            " np.int64(74),\n",
                            " np.int64(75),\n",
                            " np.int64(78),\n",
                            " np.int64(79),\n",
                            " np.int64(83),\n",
                            " np.int64(87),\n",
                            " np.int64(91),\n",
                            " np.int64(95),\n",
                            " np.int64(99),\n",
                            " np.int64(103)]"
                        ]
                    },
                    "execution_count": 21,
                    "metadata": {},
                    "output_type": "execute_result"
                }
            ],
            "source": [
                "# Devuelve una lista de índices de columnas con un sesgo mayor a 1\n",
                "var_skew = list(np.where(df.skew() > 1)[0])\n",
                "var_skew"
            ]
        },
        {
            "cell_type": "markdown",
            "metadata": {},
            "source": [
                "Aquí tenemos la posición de cada variable la cuál contiene un sesgo mayor que uno, y podría estar afectar a nuestro modelo de regresión"
            ]
        },
        {
            "cell_type": "code",
            "execution_count": 22,
            "metadata": {},
            "outputs": [],
            "source": [
                "#para cada columna con skew > 1 creeo una columna nueva columna en escala logarítmica\n",
                "for idx in var_skew:\n",
                "    col_name = df.columns[idx]\n",
                "    df[col_name + '_log'] = np.log(df[col_name]) "
            ]
        },
        {
            "cell_type": "code",
            "execution_count": 23,
            "metadata": {},
            "outputs": [],
            "source": [
                "#Elimino esas columnas que han sido transformadas a escala logarítmica\n",
                "cols_eliminar = df.columns[var_skew].tolist()\n",
                "df = df.drop(columns=cols_eliminar)"
            ]
        },
        {
            "cell_type": "code",
            "execution_count": 24,
            "metadata": {},
            "outputs": [
                {
                    "name": "stdout",
                    "output_type": "stream",
                    "text": [
                        "20-29 y/o % of total pop_log    1.084392\n",
                        "% NA/AI-alone_log               1.395556\n",
                        "% Two or more races_log         1.237067\n",
                        "Unemployment_rate_2018_log      1.008179\n",
                        "dtype: float64\n"
                    ]
                }
            ],
            "source": [
                "#Compruevo si siguen existiendo columnas con un sesgo > 1\n",
                "all_skew = df.skew()\n",
                "indices = list(np.where(df.skew()>1)[0])\n",
                "columns_to_check = df.columns[indices]\n",
                "\n",
                "## Filtro el sesgo para las columnas seleccionadas usando los índices\n",
                "skew_values = all_skew[columns_to_check]\n",
                "\n",
                "print(skew_values)"
            ]
        },
        {
            "cell_type": "markdown",
            "metadata": {},
            "source": [
                "Aunque existen 4 variables con un sesgo mayor a 1, el sesgo es muy cercano a 1 y voy a decidir mantenerlas en el dataset."
            ]
        },
        {
            "cell_type": "markdown",
            "metadata": {},
            "source": [
                "## MODELO"
            ]
        },
        {
            "cell_type": "code",
            "execution_count": 25,
            "metadata": {},
            "outputs": [],
            "source": [
                "X = df.drop('Obesity_prevalence', axis=1)\n",
                "y = df['Obesity_prevalence']"
            ]
        },
        {
            "cell_type": "code",
            "execution_count": 26,
            "metadata": {},
            "outputs": [],
            "source": [
                "X_train, X_test, y_train, y_test = train_test_split(X, y, test_size=0.2, random_state=42)"
            ]
        },
        {
            "cell_type": "code",
            "execution_count": 27,
            "metadata": {},
            "outputs": [],
            "source": [
                "# Normalizo las variables \n",
                "scaler = StandardScaler()\n",
                "X_train_sc = scaler.fit_transform(X_train)\n",
                "X_test_sc = scaler.transform(X_test)"
            ]
        },
        {
            "cell_type": "markdown",
            "metadata": {},
            "source": [
                "### Regresión lineal sin regularización"
            ]
        },
        {
            "cell_type": "code",
            "execution_count": 28,
            "metadata": {},
            "outputs": [],
            "source": [
                "#Defino y ajusto el modelo no regularizado\n",
                "lm = LinearRegression().fit(X_train_sc, y_train)\n",
                "y_pred_linear_train = lm.predict(X_train_sc)\n",
                "y_pred_linear_test = lm.predict(X_test_sc)"
            ]
        },
        {
            "cell_type": "code",
            "execution_count": 29,
            "metadata": {},
            "outputs": [],
            "source": [
                "#Código copicado del notebook\n",
                "def get_metrics(yhat, y_test, yhat_train, y_train):\n",
                "  metrics_train = r2_score(y_train, yhat_train), median_absolute_error(y_train, yhat_train), mean_absolute_percentage_error(y_train, yhat_train)*100\n",
                "  metrics_test = r2_score(y_test, yhat), median_absolute_error(y_test, yhat), mean_absolute_percentage_error(y_test, yhat)*100\n",
                "  metrics_diff = list(map(lambda x: x[1]-x[0], zip(metrics_train, metrics_test)))\n",
                "  return pd.DataFrame(data=[metrics_train, metrics_test, metrics_diff], columns=['R2', 'Median AE', 'MAPE'], index=['Train set', 'Test set', 'Diferencia'])"
            ]
        },
        {
            "cell_type": "code",
            "execution_count": 30,
            "metadata": {},
            "outputs": [
                {
                    "data": {
                        "text/html": [
                            "<div>\n",
                            "<style scoped>\n",
                            "    .dataframe tbody tr th:only-of-type {\n",
                            "        vertical-align: middle;\n",
                            "    }\n",
                            "\n",
                            "    .dataframe tbody tr th {\n",
                            "        vertical-align: top;\n",
                            "    }\n",
                            "\n",
                            "    .dataframe thead th {\n",
                            "        text-align: right;\n",
                            "    }\n",
                            "</style>\n",
                            "<table border=\"1\" class=\"dataframe\">\n",
                            "  <thead>\n",
                            "    <tr style=\"text-align: right;\">\n",
                            "      <th></th>\n",
                            "      <th>R2</th>\n",
                            "      <th>Median AE</th>\n",
                            "      <th>MAPE</th>\n",
                            "    </tr>\n",
                            "  </thead>\n",
                            "  <tbody>\n",
                            "    <tr>\n",
                            "      <th>Train set</th>\n",
                            "      <td>0.999898</td>\n",
                            "      <td>0.028195</td>\n",
                            "      <td>0.102674</td>\n",
                            "    </tr>\n",
                            "    <tr>\n",
                            "      <th>Test set</th>\n",
                            "      <td>0.999880</td>\n",
                            "      <td>0.037919</td>\n",
                            "      <td>0.145764</td>\n",
                            "    </tr>\n",
                            "    <tr>\n",
                            "      <th>Diferencia</th>\n",
                            "      <td>-0.000018</td>\n",
                            "      <td>0.009724</td>\n",
                            "      <td>0.043090</td>\n",
                            "    </tr>\n",
                            "  </tbody>\n",
                            "</table>\n",
                            "</div>"
                        ],
                        "text/plain": [
                            "                  R2  Median AE      MAPE\n",
                            "Train set   0.999898   0.028195  0.102674\n",
                            "Test set    0.999880   0.037919  0.145764\n",
                            "Diferencia -0.000018   0.009724  0.043090"
                        ]
                    },
                    "execution_count": 30,
                    "metadata": {},
                    "output_type": "execute_result"
                }
            ],
            "source": [
                "get_metrics(y_pred_linear_test, y_test, y_pred_linear_train, y_train)"
            ]
        },
        {
            "cell_type": "code",
            "execution_count": 77,
            "metadata": {},
            "outputs": [
                {
                    "data": {
                        "image/png": "[encoded data removed]",
                        "text/plain": [
                            "<Figure size 1000x400 with 2 Axes>"
                        ]
                    },
                    "metadata": {},
                    "output_type": "display_data"
                }
            ],
            "source": [
                "plt.figure(figsize=(10, 4))\n",
                "plt.subplot(1, 2, 1)\n",
                "plt.boxplot(lm.coef_)\n",
                "plt.title('Boxplot de los coeficientes de regresión lineal')\n",
                "plt.subplot(1, 2, 2)\n",
                "plt.hist(lm.coef_,20)\n",
                "plt.xlabel('Valores de coeficientes para cada gen')\n",
                "plt.ylabel('Total de coeficientes para cada rango')\n",
                "plt.title('Histograma de coeficientes')\n",
                "plt.show()"
            ]
        },
        {
            "cell_type": "markdown",
            "metadata": {},
            "source": [
                "Se puede observar que la mayoría de coeficientes se concentran en el valor 0, aunque hay valores atípicos de los coeficientes de las variables."
            ]
        },
        {
            "cell_type": "markdown",
            "metadata": {},
            "source": [
                "### Modelo con regularización"
            ]
        },
        {
            "cell_type": "markdown",
            "metadata": {},
            "source": [
                "#### Lasso (L1)"
            ]
        },
        {
            "cell_type": "code",
            "execution_count": 32,
            "metadata": {},
            "outputs": [
                {
                    "name": "stderr",
                    "output_type": "stream",
                    "text": [
                        "C:\\Users\\macar\\AppData\\Local\\Packages\\PythonSoftwareFoundation.Python.3.10_qbz5n2kfra8p0\\LocalCache\\local-packages\\Python310\\site-packages\\sklearn\\linear_model\\_coordinate_descent.py:697: ConvergenceWarning: Objective did not converge. You might want to increase the number of iterations, check the scale of the features or consider increasing regularisation. Duality gap: 1.124e+00, tolerance: 5.674e-01\n",
                        "  model = cd_fast.enet_coordinate_descent(\n"
                    ]
                }
            ],
            "source": [
                "m_lasso = LassoCV(alphas=np.logspace(-6,6,10), cv=5, random_state=42, n_jobs=-1).fit(X_train_sc, y_train)"
            ]
        },
        {
            "cell_type": "code",
            "execution_count": 33,
            "metadata": {},
            "outputs": [],
            "source": [
                "y_pred_lasso_train = m_lasso.predict(X_train_sc)\n",
                "y_pred_lasso_test = m_lasso.predict(X_test_sc)"
            ]
        },
        {
            "cell_type": "code",
            "execution_count": 35,
            "metadata": {},
            "outputs": [
                {
                    "data": {
                        "text/html": [
                            "<div>\n",
                            "<style scoped>\n",
                            "    .dataframe tbody tr th:only-of-type {\n",
                            "        vertical-align: middle;\n",
                            "    }\n",
                            "\n",
                            "    .dataframe tbody tr th {\n",
                            "        vertical-align: top;\n",
                            "    }\n",
                            "\n",
                            "    .dataframe thead th {\n",
                            "        text-align: right;\n",
                            "    }\n",
                            "</style>\n",
                            "<table border=\"1\" class=\"dataframe\">\n",
                            "  <thead>\n",
                            "    <tr style=\"text-align: right;\">\n",
                            "      <th></th>\n",
                            "      <th>R2</th>\n",
                            "      <th>Median AE</th>\n",
                            "      <th>MAPE</th>\n",
                            "    </tr>\n",
                            "  </thead>\n",
                            "  <tbody>\n",
                            "    <tr>\n",
                            "      <th>Train set</th>\n",
                            "      <td>0.999898</td>\n",
                            "      <td>0.028195</td>\n",
                            "      <td>0.102674</td>\n",
                            "    </tr>\n",
                            "    <tr>\n",
                            "      <th>Test set</th>\n",
                            "      <td>0.999880</td>\n",
                            "      <td>0.037919</td>\n",
                            "      <td>0.145764</td>\n",
                            "    </tr>\n",
                            "    <tr>\n",
                            "      <th>Diferencia</th>\n",
                            "      <td>-0.000018</td>\n",
                            "      <td>0.009724</td>\n",
                            "      <td>0.043090</td>\n",
                            "    </tr>\n",
                            "  </tbody>\n",
                            "</table>\n",
                            "</div>"
                        ],
                        "text/plain": [
                            "                  R2  Median AE      MAPE\n",
                            "Train set   0.999898   0.028195  0.102674\n",
                            "Test set    0.999880   0.037919  0.145764\n",
                            "Diferencia -0.000018   0.009724  0.043090"
                        ]
                    },
                    "execution_count": 35,
                    "metadata": {},
                    "output_type": "execute_result"
                }
            ],
            "source": [
                "#MODELO SIN REGULARIZAR\n",
                "get_metrics(y_pred_linear_test, y_test, y_pred_linear_train, y_train)"
            ]
        },
        {
            "cell_type": "code",
            "execution_count": 34,
            "metadata": {},
            "outputs": [
                {
                    "data": {
                        "text/html": [
                            "<div>\n",
                            "<style scoped>\n",
                            "    .dataframe tbody tr th:only-of-type {\n",
                            "        vertical-align: middle;\n",
                            "    }\n",
                            "\n",
                            "    .dataframe tbody tr th {\n",
                            "        vertical-align: top;\n",
                            "    }\n",
                            "\n",
                            "    .dataframe thead th {\n",
                            "        text-align: right;\n",
                            "    }\n",
                            "</style>\n",
                            "<table border=\"1\" class=\"dataframe\">\n",
                            "  <thead>\n",
                            "    <tr style=\"text-align: right;\">\n",
                            "      <th></th>\n",
                            "      <th>R2</th>\n",
                            "      <th>Median AE</th>\n",
                            "      <th>MAPE</th>\n",
                            "    </tr>\n",
                            "  </thead>\n",
                            "  <tbody>\n",
                            "    <tr>\n",
                            "      <th>Train set</th>\n",
                            "      <td>0.999858</td>\n",
                            "      <td>0.033875</td>\n",
                            "      <td>0.122003</td>\n",
                            "    </tr>\n",
                            "    <tr>\n",
                            "      <th>Test set</th>\n",
                            "      <td>0.999903</td>\n",
                            "      <td>0.033684</td>\n",
                            "      <td>0.131367</td>\n",
                            "    </tr>\n",
                            "    <tr>\n",
                            "      <th>Diferencia</th>\n",
                            "      <td>0.000045</td>\n",
                            "      <td>-0.000191</td>\n",
                            "      <td>0.009364</td>\n",
                            "    </tr>\n",
                            "  </tbody>\n",
                            "</table>\n",
                            "</div>"
                        ],
                        "text/plain": [
                            "                  R2  Median AE      MAPE\n",
                            "Train set   0.999858   0.033875  0.122003\n",
                            "Test set    0.999903   0.033684  0.131367\n",
                            "Diferencia  0.000045  -0.000191  0.009364"
                        ]
                    },
                    "execution_count": 34,
                    "metadata": {},
                    "output_type": "execute_result"
                }
            ],
            "source": [
                "#LASS0\n",
                "get_metrics(y_pred_lasso_test, y_test, y_pred_lasso_train, y_train)"
            ]
        },
        {
            "cell_type": "markdown",
            "metadata": {},
            "source": [
                "Cómo se puede observar, a través de introducir la penalización Lasso hemos aconseguido que nuestros datos de entrenamiento reduzcan un poco el overfitting, pero por otra parte los datos de prueba son capazes de generalizar más que el modelosin regularizar, por lo tanto podríamos decir que hemos mejorado nuestro algorítmo regressor."
            ]
        },
        {
            "cell_type": "code",
            "execution_count": 48,
            "metadata": {},
            "outputs": [
                {
                    "data": {
                        "image/png": "[encoded data removed]",
                        "text/plain": [
                            "<Figure size 1000x400 with 2 Axes>"
                        ]
                    },
                    "metadata": {},
                    "output_type": "display_data"
                }
            ],
            "source": [
                "plt.figure(figsize=(10, 4))\n",
                "plt.subplot(1, 2, 1)\n",
                "plt.boxplot(m_lasso.coef_)\n",
                "plt.title('Boxplot de los coeficientes de regresión lineal')\n",
                "plt.subplot(1, 2, 2)\n",
                "plt.hist(m_lasso.coef_,10)\n",
                "plt.xlabel('Valores de coeficientes para cada gen')\n",
                "plt.ylabel('Total de coeficientes para cada rango')\n",
                "plt.title('Histograma de coeficientes')\n",
                "plt.show()"
            ]
        },
        {
            "cell_type": "code",
            "execution_count": 96,
            "metadata": {},
            "outputs": [
                {
                    "name": "stdout",
                    "output_type": "stream",
                    "text": [
                        "Media de los coeficientes modelo Lasso: 0.039 \n",
                        "Media de los coeficientes modelo no regularizado: 8999.276\n"
                    ]
                }
            ],
            "source": [
                "print(f'Media de los coeficientes modelo Lasso: {round(np.mean(m_lasso.coef_), 4)}',\n",
                "      f'\\nMedia de los coeficientes modelo no regularizado: {round(np.mean(lm.coef_), 4)}')\n"
            ]
        },
        {
            "cell_type": "markdown",
            "metadata": {},
            "source": [
                "El modelo Lasso ha reducido la media casi hasta 0 de los coefcientes de las variables."
            ]
        },
        {
            "cell_type": "code",
            "execution_count": 75,
            "metadata": {},
            "outputs": [
                {
                    "name": "stdout",
                    "output_type": "stream",
                    "text": [
                        "El porcentaje de variables canceladas es: 45.28%\n",
                        "El modelo utiliza 58 variables.\n"
                    ]
                }
            ],
            "source": [
                "print(f'El porcentaje de variables canceladas es: {round(len(m_lasso.coef_[np.abs(m_lasso.coef_)==0])/len(m_lasso.coef_)*100,2)}%')\n",
                "print(f'El modelo utiliza {len(m_lasso.coef_[np.abs(m_lasso.coef_)>0])} variables.')"
            ]
        },
        {
            "cell_type": "markdown",
            "metadata": {},
            "source": [
                "#### Ridge(L2)"
            ]
        },
        {
            "cell_type": "code",
            "execution_count": 81,
            "metadata": {},
            "outputs": [],
            "source": [
                "m_ridge = RidgeCV(alphas=np.logspace(-6,6,10), cv=5).fit(X_train_sc, y_train)"
            ]
        },
        {
            "cell_type": "code",
            "execution_count": 82,
            "metadata": {},
            "outputs": [],
            "source": [
                "y_pred_ridge_train = m_ridge.predict(X_train_sc)\n",
                "y_pred_ridge_test = m_ridge.predict(X_test_sc)"
            ]
        },
        {
            "cell_type": "code",
            "execution_count": 86,
            "metadata": {},
            "outputs": [
                {
                    "data": {
                        "text/html": [
                            "<div>\n",
                            "<style scoped>\n",
                            "    .dataframe tbody tr th:only-of-type {\n",
                            "        vertical-align: middle;\n",
                            "    }\n",
                            "\n",
                            "    .dataframe tbody tr th {\n",
                            "        vertical-align: top;\n",
                            "    }\n",
                            "\n",
                            "    .dataframe thead th {\n",
                            "        text-align: right;\n",
                            "    }\n",
                            "</style>\n",
                            "<table border=\"1\" class=\"dataframe\">\n",
                            "  <thead>\n",
                            "    <tr style=\"text-align: right;\">\n",
                            "      <th></th>\n",
                            "      <th>R2</th>\n",
                            "      <th>Median AE</th>\n",
                            "      <th>MAPE</th>\n",
                            "    </tr>\n",
                            "  </thead>\n",
                            "  <tbody>\n",
                            "    <tr>\n",
                            "      <th>Train set</th>\n",
                            "      <td>0.999898</td>\n",
                            "      <td>0.028195</td>\n",
                            "      <td>0.102674</td>\n",
                            "    </tr>\n",
                            "    <tr>\n",
                            "      <th>Test set</th>\n",
                            "      <td>0.999880</td>\n",
                            "      <td>0.037919</td>\n",
                            "      <td>0.145764</td>\n",
                            "    </tr>\n",
                            "    <tr>\n",
                            "      <th>Diferencia</th>\n",
                            "      <td>-0.000018</td>\n",
                            "      <td>0.009724</td>\n",
                            "      <td>0.043090</td>\n",
                            "    </tr>\n",
                            "  </tbody>\n",
                            "</table>\n",
                            "</div>"
                        ],
                        "text/plain": [
                            "                  R2  Median AE      MAPE\n",
                            "Train set   0.999898   0.028195  0.102674\n",
                            "Test set    0.999880   0.037919  0.145764\n",
                            "Diferencia -0.000018   0.009724  0.043090"
                        ]
                    },
                    "execution_count": 86,
                    "metadata": {},
                    "output_type": "execute_result"
                }
            ],
            "source": [
                "#MODELO SIN REGULARIZAR\n",
                "get_metrics(y_pred_linear_test, y_test, y_pred_linear_train, y_train)"
            ]
        },
        {
            "cell_type": "code",
            "execution_count": 87,
            "metadata": {},
            "outputs": [
                {
                    "data": {
                        "text/html": [
                            "<div>\n",
                            "<style scoped>\n",
                            "    .dataframe tbody tr th:only-of-type {\n",
                            "        vertical-align: middle;\n",
                            "    }\n",
                            "\n",
                            "    .dataframe tbody tr th {\n",
                            "        vertical-align: top;\n",
                            "    }\n",
                            "\n",
                            "    .dataframe thead th {\n",
                            "        text-align: right;\n",
                            "    }\n",
                            "</style>\n",
                            "<table border=\"1\" class=\"dataframe\">\n",
                            "  <thead>\n",
                            "    <tr style=\"text-align: right;\">\n",
                            "      <th></th>\n",
                            "      <th>R2</th>\n",
                            "      <th>Median AE</th>\n",
                            "      <th>MAPE</th>\n",
                            "    </tr>\n",
                            "  </thead>\n",
                            "  <tbody>\n",
                            "    <tr>\n",
                            "      <th>Train set</th>\n",
                            "      <td>0.999858</td>\n",
                            "      <td>0.033875</td>\n",
                            "      <td>0.122003</td>\n",
                            "    </tr>\n",
                            "    <tr>\n",
                            "      <th>Test set</th>\n",
                            "      <td>0.999903</td>\n",
                            "      <td>0.033684</td>\n",
                            "      <td>0.131367</td>\n",
                            "    </tr>\n",
                            "    <tr>\n",
                            "      <th>Diferencia</th>\n",
                            "      <td>0.000045</td>\n",
                            "      <td>-0.000191</td>\n",
                            "      <td>0.009364</td>\n",
                            "    </tr>\n",
                            "  </tbody>\n",
                            "</table>\n",
                            "</div>"
                        ],
                        "text/plain": [
                            "                  R2  Median AE      MAPE\n",
                            "Train set   0.999858   0.033875  0.122003\n",
                            "Test set    0.999903   0.033684  0.131367\n",
                            "Diferencia  0.000045  -0.000191  0.009364"
                        ]
                    },
                    "execution_count": 87,
                    "metadata": {},
                    "output_type": "execute_result"
                }
            ],
            "source": [
                "#LASS0\n",
                "get_metrics(y_pred_lasso_test, y_test, y_pred_lasso_train, y_train)"
            ]
        },
        {
            "cell_type": "code",
            "execution_count": 83,
            "metadata": {},
            "outputs": [
                {
                    "data": {
                        "text/html": [
                            "<div>\n",
                            "<style scoped>\n",
                            "    .dataframe tbody tr th:only-of-type {\n",
                            "        vertical-align: middle;\n",
                            "    }\n",
                            "\n",
                            "    .dataframe tbody tr th {\n",
                            "        vertical-align: top;\n",
                            "    }\n",
                            "\n",
                            "    .dataframe thead th {\n",
                            "        text-align: right;\n",
                            "    }\n",
                            "</style>\n",
                            "<table border=\"1\" class=\"dataframe\">\n",
                            "  <thead>\n",
                            "    <tr style=\"text-align: right;\">\n",
                            "      <th></th>\n",
                            "      <th>R2</th>\n",
                            "      <th>Median AE</th>\n",
                            "      <th>MAPE</th>\n",
                            "    </tr>\n",
                            "  </thead>\n",
                            "  <tbody>\n",
                            "    <tr>\n",
                            "      <th>Train set</th>\n",
                            "      <td>0.999886</td>\n",
                            "      <td>0.028327</td>\n",
                            "      <td>0.110438</td>\n",
                            "    </tr>\n",
                            "    <tr>\n",
                            "      <th>Test set</th>\n",
                            "      <td>0.999904</td>\n",
                            "      <td>0.036360</td>\n",
                            "      <td>0.125687</td>\n",
                            "    </tr>\n",
                            "    <tr>\n",
                            "      <th>Diferencia</th>\n",
                            "      <td>0.000018</td>\n",
                            "      <td>0.008033</td>\n",
                            "      <td>0.015249</td>\n",
                            "    </tr>\n",
                            "  </tbody>\n",
                            "</table>\n",
                            "</div>"
                        ],
                        "text/plain": [
                            "                  R2  Median AE      MAPE\n",
                            "Train set   0.999886   0.028327  0.110438\n",
                            "Test set    0.999904   0.036360  0.125687\n",
                            "Diferencia  0.000018   0.008033  0.015249"
                        ]
                    },
                    "execution_count": 83,
                    "metadata": {},
                    "output_type": "execute_result"
                }
            ],
            "source": [
                "# RIDGE\n",
                "get_metrics(y_pred_ridge_test, y_test, y_pred_ridge_train, y_train)"
            ]
        },
        {
            "cell_type": "markdown",
            "metadata": {},
            "source": [
                "Utilizando el regulizador Ridge, el cuál no penaliza tanto, hemos aconseguido que nuestro algorimto mejore los datosde prueba respecto al modelo sin regularizar, incluso mejorando el resultado de Lasso. Pero por otra parte, el coeficiente de determinación ha aumentado respecto Lasso."
            ]
        },
        {
            "cell_type": "code",
            "execution_count": 84,
            "metadata": {},
            "outputs": [
                {
                    "data": {
                        "image/png": "[encoded data removed]",
                        "text/plain": [
                            "<Figure size 1000x400 with 2 Axes>"
                        ]
                    },
                    "metadata": {},
                    "output_type": "display_data"
                }
            ],
            "source": [
                "plt.figure(figsize=(10, 4))\n",
                "plt.subplot(1, 2, 1)\n",
                "plt.boxplot(m_ridge.coef_)\n",
                "plt.title('Boxplot de los coeficientes de regresión lineal')\n",
                "plt.subplot(1, 2, 2)\n",
                "plt.hist(m_ridge.coef_,10)\n",
                "plt.xlabel('Valores de coeficientes para cada gen')\n",
                "plt.ylabel('Total de coeficientes para cada rango')\n",
                "plt.title('Histograma de coeficientes')\n",
                "plt.show()"
            ]
        },
        {
            "cell_type": "code",
            "execution_count": 85,
            "metadata": {},
            "outputs": [
                {
                    "name": "stdout",
                    "output_type": "stream",
                    "text": [
                        "El porcentaje de variables canceladas es: 0.0%\n",
                        "El modelo utiliza 106 variables.\n"
                    ]
                }
            ],
            "source": [
                "print(f'El porcentaje de variables canceladas es: {round(len(m_ridge.coef_[np.abs(m_ridge.coef_)==0])/len(m_ridge.coef_)*100,2)}%')\n",
                "print(f'El modelo utiliza {len(m_ridge.coef_[np.abs(m_ridge.coef_)>0])} variables.')"
            ]
        },
        {
            "cell_type": "markdown",
            "metadata": {},
            "source": [
                "Este regulizador (Ridge) es menos penalizador que Lasso y eso se observa en qué en este caso el modelo utiliza todas las variables."
            ]
        },
        {
            "cell_type": "markdown",
            "metadata": {},
            "source": [
                "### Optimización del Modelo final"
            ]
        },
        {
            "cell_type": "markdown",
            "metadata": {},
            "source": [
                "Ahora voy a crear un nueva dataset, tanto para el conjunto de prueba como el conjunto de entrenamiento, dónde solo van a contener las variables que el regressor lasso mantiene."
            ]
        },
        {
            "cell_type": "code",
            "execution_count": 88,
            "metadata": {},
            "outputs": [],
            "source": [
                "X_train_v1 = X_train_sc[:,np.where(np.abs(m_lasso.coef_)>0)[0]]\n",
                "X_test_v1 = X_test_sc[:,np.where(np.abs(m_lasso.coef_)>0)[0]]"
            ]
        },
        {
            "cell_type": "markdown",
            "metadata": {},
            "source": [
                "Por otra parte, voy a utilizar el regressor Ridge, para reducir un possible sobreajuste de mi modelo"
            ]
        },
        {
            "cell_type": "code",
            "execution_count": 89,
            "metadata": {},
            "outputs": [],
            "source": [
                "m_ridge_v1 = RidgeCV(alphas=np.logspace(-6,6,10), cv=5).fit(X_train_v1, y_train)"
            ]
        },
        {
            "cell_type": "code",
            "execution_count": 90,
            "metadata": {},
            "outputs": [],
            "source": [
                "y_pred_ridge_train_v1 = m_ridge_v1.predict(X_train_v1)\n",
                "y_pred_ridge_test_v1 = m_ridge_v1.predict(X_test_v1)"
            ]
        },
        {
            "cell_type": "code",
            "execution_count": 91,
            "metadata": {},
            "outputs": [
                {
                    "data": {
                        "text/html": [
                            "<div>\n",
                            "<style scoped>\n",
                            "    .dataframe tbody tr th:only-of-type {\n",
                            "        vertical-align: middle;\n",
                            "    }\n",
                            "\n",
                            "    .dataframe tbody tr th {\n",
                            "        vertical-align: top;\n",
                            "    }\n",
                            "\n",
                            "    .dataframe thead th {\n",
                            "        text-align: right;\n",
                            "    }\n",
                            "</style>\n",
                            "<table border=\"1\" class=\"dataframe\">\n",
                            "  <thead>\n",
                            "    <tr style=\"text-align: right;\">\n",
                            "      <th></th>\n",
                            "      <th>R2</th>\n",
                            "      <th>Median AE</th>\n",
                            "      <th>MAPE</th>\n",
                            "    </tr>\n",
                            "  </thead>\n",
                            "  <tbody>\n",
                            "    <tr>\n",
                            "      <th>Train set</th>\n",
                            "      <td>0.999878</td>\n",
                            "      <td>0.031335</td>\n",
                            "      <td>0.113677</td>\n",
                            "    </tr>\n",
                            "    <tr>\n",
                            "      <th>Test set</th>\n",
                            "      <td>0.999912</td>\n",
                            "      <td>0.034384</td>\n",
                            "      <td>0.121727</td>\n",
                            "    </tr>\n",
                            "    <tr>\n",
                            "      <th>Diferencia</th>\n",
                            "      <td>0.000034</td>\n",
                            "      <td>0.003049</td>\n",
                            "      <td>0.008050</td>\n",
                            "    </tr>\n",
                            "  </tbody>\n",
                            "</table>\n",
                            "</div>"
                        ],
                        "text/plain": [
                            "                  R2  Median AE      MAPE\n",
                            "Train set   0.999878   0.031335  0.113677\n",
                            "Test set    0.999912   0.034384  0.121727\n",
                            "Diferencia  0.000034   0.003049  0.008050"
                        ]
                    },
                    "execution_count": 91,
                    "metadata": {},
                    "output_type": "execute_result"
                }
            ],
            "source": [
                "#Modelo optimizado\n",
                "get_metrics(y_pred_ridge_test_v1, y_test, y_pred_ridge_train_v1, y_train)"
            ]
        },
        {
            "cell_type": "code",
            "execution_count": 92,
            "metadata": {},
            "outputs": [
                {
                    "data": {
                        "text/html": [
                            "<div>\n",
                            "<style scoped>\n",
                            "    .dataframe tbody tr th:only-of-type {\n",
                            "        vertical-align: middle;\n",
                            "    }\n",
                            "\n",
                            "    .dataframe tbody tr th {\n",
                            "        vertical-align: top;\n",
                            "    }\n",
                            "\n",
                            "    .dataframe thead th {\n",
                            "        text-align: right;\n",
                            "    }\n",
                            "</style>\n",
                            "<table border=\"1\" class=\"dataframe\">\n",
                            "  <thead>\n",
                            "    <tr style=\"text-align: right;\">\n",
                            "      <th></th>\n",
                            "      <th>R2</th>\n",
                            "      <th>Median AE</th>\n",
                            "      <th>MAPE</th>\n",
                            "    </tr>\n",
                            "  </thead>\n",
                            "  <tbody>\n",
                            "    <tr>\n",
                            "      <th>Train set</th>\n",
                            "      <td>0.999898</td>\n",
                            "      <td>0.028195</td>\n",
                            "      <td>0.102674</td>\n",
                            "    </tr>\n",
                            "    <tr>\n",
                            "      <th>Test set</th>\n",
                            "      <td>0.999880</td>\n",
                            "      <td>0.037919</td>\n",
                            "      <td>0.145764</td>\n",
                            "    </tr>\n",
                            "    <tr>\n",
                            "      <th>Diferencia</th>\n",
                            "      <td>-0.000018</td>\n",
                            "      <td>0.009724</td>\n",
                            "      <td>0.043090</td>\n",
                            "    </tr>\n",
                            "  </tbody>\n",
                            "</table>\n",
                            "</div>"
                        ],
                        "text/plain": [
                            "                  R2  Median AE      MAPE\n",
                            "Train set   0.999898   0.028195  0.102674\n",
                            "Test set    0.999880   0.037919  0.145764\n",
                            "Diferencia -0.000018   0.009724  0.043090"
                        ]
                    },
                    "execution_count": 92,
                    "metadata": {},
                    "output_type": "execute_result"
                }
            ],
            "source": [
                "#MODELO SIN REGULARIZAR\n",
                "get_metrics(y_pred_linear_test, y_test, y_pred_linear_train, y_train)"
            ]
        },
        {
            "cell_type": "code",
            "execution_count": 93,
            "metadata": {},
            "outputs": [
                {
                    "data": {
                        "text/html": [
                            "<div>\n",
                            "<style scoped>\n",
                            "    .dataframe tbody tr th:only-of-type {\n",
                            "        vertical-align: middle;\n",
                            "    }\n",
                            "\n",
                            "    .dataframe tbody tr th {\n",
                            "        vertical-align: top;\n",
                            "    }\n",
                            "\n",
                            "    .dataframe thead th {\n",
                            "        text-align: right;\n",
                            "    }\n",
                            "</style>\n",
                            "<table border=\"1\" class=\"dataframe\">\n",
                            "  <thead>\n",
                            "    <tr style=\"text-align: right;\">\n",
                            "      <th></th>\n",
                            "      <th>R2</th>\n",
                            "      <th>Median AE</th>\n",
                            "      <th>MAPE</th>\n",
                            "    </tr>\n",
                            "  </thead>\n",
                            "  <tbody>\n",
                            "    <tr>\n",
                            "      <th>Train set</th>\n",
                            "      <td>0.999858</td>\n",
                            "      <td>0.033875</td>\n",
                            "      <td>0.122003</td>\n",
                            "    </tr>\n",
                            "    <tr>\n",
                            "      <th>Test set</th>\n",
                            "      <td>0.999903</td>\n",
                            "      <td>0.033684</td>\n",
                            "      <td>0.131367</td>\n",
                            "    </tr>\n",
                            "    <tr>\n",
                            "      <th>Diferencia</th>\n",
                            "      <td>0.000045</td>\n",
                            "      <td>-0.000191</td>\n",
                            "      <td>0.009364</td>\n",
                            "    </tr>\n",
                            "  </tbody>\n",
                            "</table>\n",
                            "</div>"
                        ],
                        "text/plain": [
                            "                  R2  Median AE      MAPE\n",
                            "Train set   0.999858   0.033875  0.122003\n",
                            "Test set    0.999903   0.033684  0.131367\n",
                            "Diferencia  0.000045  -0.000191  0.009364"
                        ]
                    },
                    "execution_count": 93,
                    "metadata": {},
                    "output_type": "execute_result"
                }
            ],
            "source": [
                "#LASS0\n",
                "get_metrics(y_pred_lasso_test, y_test, y_pred_lasso_train, y_train)"
            ]
        },
        {
            "cell_type": "code",
            "execution_count": 94,
            "metadata": {},
            "outputs": [
                {
                    "data": {
                        "text/html": [
                            "<div>\n",
                            "<style scoped>\n",
                            "    .dataframe tbody tr th:only-of-type {\n",
                            "        vertical-align: middle;\n",
                            "    }\n",
                            "\n",
                            "    .dataframe tbody tr th {\n",
                            "        vertical-align: top;\n",
                            "    }\n",
                            "\n",
                            "    .dataframe thead th {\n",
                            "        text-align: right;\n",
                            "    }\n",
                            "</style>\n",
                            "<table border=\"1\" class=\"dataframe\">\n",
                            "  <thead>\n",
                            "    <tr style=\"text-align: right;\">\n",
                            "      <th></th>\n",
                            "      <th>R2</th>\n",
                            "      <th>Median AE</th>\n",
                            "      <th>MAPE</th>\n",
                            "    </tr>\n",
                            "  </thead>\n",
                            "  <tbody>\n",
                            "    <tr>\n",
                            "      <th>Train set</th>\n",
                            "      <td>0.999886</td>\n",
                            "      <td>0.028327</td>\n",
                            "      <td>0.110438</td>\n",
                            "    </tr>\n",
                            "    <tr>\n",
                            "      <th>Test set</th>\n",
                            "      <td>0.999904</td>\n",
                            "      <td>0.036360</td>\n",
                            "      <td>0.125687</td>\n",
                            "    </tr>\n",
                            "    <tr>\n",
                            "      <th>Diferencia</th>\n",
                            "      <td>0.000018</td>\n",
                            "      <td>0.008033</td>\n",
                            "      <td>0.015249</td>\n",
                            "    </tr>\n",
                            "  </tbody>\n",
                            "</table>\n",
                            "</div>"
                        ],
                        "text/plain": [
                            "                  R2  Median AE      MAPE\n",
                            "Train set   0.999886   0.028327  0.110438\n",
                            "Test set    0.999904   0.036360  0.125687\n",
                            "Diferencia  0.000018   0.008033  0.015249"
                        ]
                    },
                    "execution_count": 94,
                    "metadata": {},
                    "output_type": "execute_result"
                }
            ],
            "source": [
                "# RIDGE\n",
                "get_metrics(y_pred_ridge_test, y_test, y_pred_ridge_train, y_train)"
            ]
        },
        {
            "cell_type": "markdown",
            "metadata": {},
            "source": [
                "Comparando las métricas de los tres modelos podemos observar que con el modelo optimizado hemos reducido el sobreajuste de los datos de entrenamiento, mientras que hemos obtenido el mejor coeficiente de determinación de los 4 modelos utilizados. "
            ]
        }
    ],
    "metadata": {
        "kernelspec": {
            "display_name": "Python 3.8.13 64-bit ('3.8.13')",
            "language": "python",
            "name": "python3"
        },
        "language_info": {
            "codemirror_mode": {
                "name": "ipython",
                "version": 3
            },
            "file_extension": ".py",
            "mimetype": "text/x-python",
            "name": "python",
            "nbconvert_exporter": "python",
            "pygments_lexer": "ipython3",
            "version": "3.10.11"
        },
        "orig_nbformat": 4,
        "vscode": {
            "interpreter": {
                "hash": "110cc1dee26208153f2972f08a2ad52b6a56238dc66d48e87fb757ef2996db56"
            }
        }
    },
    "nbformat": 4,
    "nbformat_minor": 2
}
